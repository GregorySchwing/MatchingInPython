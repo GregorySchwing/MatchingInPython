{
 "cells": [
  {
   "cell_type": "code",
   "execution_count": 1,
   "id": "8bd5d311-0a51-406f-984c-728f6d7ed51d",
   "metadata": {
    "tags": []
   },
   "outputs": [],
   "source": [
    "import scipy"
   ]
  },
  {
   "cell_type": "code",
   "execution_count": 2,
   "id": "654592da-f1d7-481a-ae89-0441b75dea30",
   "metadata": {
    "tags": []
   },
   "outputs": [
    {
     "name": "stdout",
     "output_type": "stream",
     "text": [
      "(40, 40)\n"
     ]
    }
   ],
   "source": [
    "from networkx.algorithms import bipartite\n",
    "import networkx as nx\n",
    "#random_graph(n, m, p[, seed, directed])\n",
    "n = 20\n",
    "m = 20\n",
    "p = 0.6\n",
    "seed = 1\n",
    "directed = False\n",
    "G = bipartite.random_graph(n, m, p, seed, directed)\n",
    "import scipy.sparse as sps\n",
    "# Convert the graph to a SciPy sparse matrix\n",
    "mat = nx.to_scipy_sparse_array(G,format=\"lil\")\n",
    "mat.setdiag(1)\n",
    "print(mat.shape)"
   ]
  },
  {
   "cell_type": "code",
   "execution_count": 3,
   "id": "82f2fc8c-0f32-4948-80ee-53626b386ddc",
   "metadata": {
    "tags": []
   },
   "outputs": [
    {
     "name": "stdout",
     "output_type": "stream",
     "text": [
      "(40, 40)\n"
     ]
    }
   ],
   "source": [
    "from scipy.sparse import triu, tril\n",
    "# Set diagonal to 1 so matrix is invertible\n",
    "# Extract upper triangle of symmetric sparse matrix\n",
    "lower_triangle = tril(mat,format=\"csc\")\n",
    "mat=lower_triangle\n",
    "print(mat.shape)"
   ]
  },
  {
   "cell_type": "code",
   "execution_count": 4,
   "id": "06e02606-cadc-4905-8808-8142df545eb5",
   "metadata": {
    "tags": []
   },
   "outputs": [
    {
     "data": {
      "text/plain": [
       "<matplotlib.lines.Line2D at 0x7f80ed5741f0>"
      ]
     },
     "execution_count": 4,
     "metadata": {},
     "output_type": "execute_result"
    },
    {
     "data": {
      "image/png": "[encoded data removed]",
      "text/plain": [
       "<Figure size 640x480 with 1 Axes>"
      ]
     },
     "metadata": {},
     "output_type": "display_data"
    }
   ],
   "source": [
    "import numpy as np\n",
    "import scipy as sp\n",
    "import scipy.sparse\n",
    "from scipy.sparse import csc_matrix\n",
    "import matplotlib.pyplot as plt\n",
    "%matplotlib inline\n",
    "plt.spy(mat, aspect='equal', marker='.', markersize=2)\n"
   ]
  },
  {
   "cell_type": "code",
   "execution_count": 5,
   "id": "1bb2f383-3079-453f-8e14-032d619694cc",
   "metadata": {
    "tags": []
   },
   "outputs": [
    {
     "name": "stdout",
     "output_type": "stream",
     "text": [
      "Randomized Adj in 0.00018477439880371094 seconds\n",
      "Inverted Matrix in 0.009118080139160156 seconds\n"
     ]
    }
   ],
   "source": [
    "import time\n",
    "import numpy as np\n",
    "start_time = time.time()\n",
    "# Set the data array in place to random integers between 0 and nnz\n",
    "randomWeights = np.random.randint(1, 2*mat.shape[0], size=mat.nnz)\n",
    "two_exp_randomWeights = np.exp2(randomWeights)\n",
    "mat.data=two_exp_randomWeights\n",
    "# Record the stop time\n",
    "stop_time = time.time()\n",
    "# Calculate the elapsed time\n",
    "elapsed_time = stop_time - start_time\n",
    "print(f\"Randomized Adj in {elapsed_time} seconds\")\n",
    "start_time = time.time()\n",
    "invMat = sps.linalg.inv(mat)\n",
    "# Record the stop time\n",
    "stop_time = time.time()\n",
    "# Calculate the elapsed time\n",
    "elapsed_time = stop_time - start_time\n",
    "print(f\"Inverted Matrix in {elapsed_time} seconds\")"
   ]
  },
  {
   "cell_type": "code",
   "execution_count": 6,
   "id": "00b0711b-8935-46e2-a36c-114b90e35f1c",
   "metadata": {},
   "outputs": [
    {
     "name": "stdout",
     "output_type": "stream",
     "text": [
      "[[ 9.31322575e-10  0.00000000e+00  0.00000000e+00 ...  0.00000000e+00\n",
      "   0.00000000e+00  0.00000000e+00]\n",
      " [ 0.00000000e+00  1.25000000e-01  0.00000000e+00 ...  0.00000000e+00\n",
      "   0.00000000e+00  0.00000000e+00]\n",
      " [ 0.00000000e+00  0.00000000e+00  2.11758237e-22 ...  0.00000000e+00\n",
      "   0.00000000e+00  0.00000000e+00]\n",
      " ...\n",
      " [-2.27373675e-13  0.00000000e+00 -1.13686838e-13 ...  4.76837158e-07\n",
      "   0.00000000e+00  0.00000000e+00]\n",
      " [ 0.00000000e+00 -2.68435456e+08  0.00000000e+00 ...  0.00000000e+00\n",
      "   5.96046448e-08  0.00000000e+00]\n",
      " [-1.60000000e+01 -3.05175781e-05  0.00000000e+00 ...  0.00000000e+00\n",
      "   0.00000000e+00  2.84217094e-14]]\n"
     ]
    }
   ],
   "source": [
    "denseAdj = mat.copy().todense()\n",
    "denseInv = invMat.copy().todense()"
   ]
  },
  {
   "cell_type": "code",
   "execution_count": 8,
   "id": "d271d508-ce9f-4f46-9b36-25beb546dc98",
   "metadata": {
    "tags": []
   },
   "outputs": [
    {
     "name": "stdout",
     "output_type": "stream",
     "text": [
      "0 20\n",
      "0 23\n",
      "0 25\n",
      "0 26\n",
      "0 27\n",
      "0 28\n",
      "0 30\n",
      "0 32\n",
      "0 33\n",
      "0 34\n",
      "0 36\n",
      "0 37\n",
      "0 39\n",
      "1 20\n",
      "1 21\n",
      "1 23\n",
      "1 24\n",
      "1 28\n",
      "1 31\n",
      "1 32\n",
      "1 33\n",
      "1 34\n",
      "1 38\n",
      "1 39\n",
      "2 20\n",
      "2 21\n",
      "2 22\n",
      "2 23\n",
      "2 24\n",
      "2 25\n",
      "2 26\n",
      "2 27\n",
      "2 28\n",
      "2 29\n",
      "2 30\n",
      "2 31\n",
      "2 33\n",
      "2 34\n",
      "2 36\n",
      "2 37\n",
      "3 23\n",
      "3 26\n",
      "3 27\n",
      "3 28\n",
      "3 30\n",
      "3 32\n",
      "3 36\n",
      "3 37\n",
      "3 39\n",
      "4 21\n",
      "4 22\n",
      "4 23\n",
      "4 26\n",
      "4 29\n",
      "4 30\n",
      "4 31\n",
      "4 32\n",
      "4 33\n",
      "4 35\n",
      "4 36\n",
      "4 37\n",
      "4 38\n",
      "5 20\n",
      "5 22\n",
      "5 23\n",
      "5 24\n",
      "5 25\n",
      "5 27\n",
      "5 28\n",
      "5 29\n",
      "5 30\n",
      "5 31\n",
      "5 32\n",
      "5 34\n",
      "5 39\n",
      "6 20\n",
      "6 21\n",
      "6 22\n",
      "6 23\n",
      "6 28\n",
      "6 30\n",
      "6 31\n",
      "6 34\n",
      "6 35\n",
      "6 36\n",
      "7 20\n",
      "7 21\n",
      "7 22\n",
      "7 23\n",
      "7 24\n",
      "7 28\n",
      "7 29\n",
      "7 31\n",
      "7 33\n",
      "7 36\n",
      "7 38\n",
      "8 20\n",
      "8 21\n",
      "8 22\n",
      "8 23\n",
      "8 24\n",
      "8 27\n",
      "8 28\n",
      "8 29\n",
      "8 30\n",
      "8 31\n",
      "8 32\n",
      "8 33\n",
      "8 34\n",
      "8 36\n",
      "8 38\n",
      "8 39\n",
      "9 20\n",
      "9 21\n",
      "9 22\n",
      "9 23\n",
      "9 26\n",
      "9 28\n",
      "9 30\n",
      "9 32\n",
      "9 33\n",
      "9 36\n",
      "9 38\n",
      "9 39\n",
      "10 20\n",
      "10 21\n",
      "10 23\n",
      "10 24\n",
      "10 25\n",
      "10 27\n",
      "10 28\n",
      "10 29\n",
      "10 30\n",
      "10 31\n",
      "10 32\n",
      "10 33\n",
      "10 35\n",
      "10 36\n",
      "10 37\n",
      "10 38\n",
      "10 39\n",
      "11 20\n",
      "11 21\n",
      "11 22\n",
      "11 23\n",
      "11 26\n",
      "11 27\n",
      "11 28\n",
      "11 30\n",
      "11 32\n",
      "11 33\n",
      "11 34\n",
      "11 35\n",
      "11 37\n",
      "11 38\n",
      "12 20\n",
      "12 22\n",
      "12 23\n",
      "12 24\n",
      "12 29\n",
      "12 31\n",
      "12 32\n",
      "12 33\n",
      "12 35\n",
      "12 36\n",
      "12 37\n",
      "12 38\n",
      "13 20\n",
      "13 21\n",
      "13 22\n",
      "13 26\n",
      "13 29\n",
      "13 30\n",
      "13 33\n",
      "13 34\n",
      "13 38\n",
      "14 20\n",
      "14 21\n",
      "14 22\n",
      "14 23\n",
      "14 26\n",
      "14 27\n",
      "14 29\n",
      "14 33\n",
      "14 34\n",
      "14 35\n",
      "14 38\n",
      "15 22\n",
      "15 24\n",
      "15 25\n",
      "15 26\n",
      "15 27\n",
      "15 28\n",
      "15 30\n",
      "15 31\n",
      "15 32\n",
      "15 33\n",
      "15 35\n",
      "15 36\n",
      "15 37\n",
      "15 38\n",
      "16 21\n",
      "16 24\n",
      "16 25\n",
      "16 26\n",
      "16 27\n",
      "16 32\n",
      "16 34\n",
      "16 35\n",
      "16 36\n",
      "16 38\n",
      "17 20\n",
      "17 23\n",
      "17 24\n",
      "17 27\n",
      "17 29\n",
      "17 30\n",
      "17 35\n",
      "17 36\n",
      "17 38\n",
      "17 39\n",
      "18 20\n",
      "18 23\n",
      "18 24\n",
      "18 26\n",
      "18 28\n",
      "18 31\n",
      "18 32\n",
      "18 33\n",
      "18 34\n",
      "18 37\n",
      "18 39\n",
      "19 23\n",
      "19 26\n",
      "19 27\n",
      "19 28\n",
      "19 29\n",
      "19 30\n",
      "19 31\n",
      "19 34\n",
      "19 36\n",
      "19 38\n",
      "19 39\n"
     ]
    }
   ],
   "source": [
    "from scipy import linalg\n",
    "denseAdj = mat.copy().todense()\n",
    "denseInv = invMat.copy().todense()\n",
    "Bij = denseInv\n",
    "w = linalg.det(Bij)\n",
    "for e in G.edges:\n",
    "    i=e[0]\n",
    "    j=e[1]\n",
    "    print(i,j)\n",
    "    Aij = denseAdj.copy()\n",
    "    Aij[i,:]=0.0\n",
    "    Aij[:,j]=0.0\n",
    "    #Aij[i,j]=denseAdj[i,j]\n",
    "    try:\n",
    "        Bij = linalg.inv(Aij)\n",
    "        det = linalg.det(Bij)\n",
    "        print(2**Aij[i,j])\n",
    "        print(det)\n",
    "    except Exception :\n",
    "        continue\n"
   ]
  },
  {
   "cell_type": "code",
   "execution_count": null,
   "id": "7ca68687-c030-4ba3-818f-a43298ef6c38",
   "metadata": {},
   "outputs": [],
   "source": []
  },
  {
   "cell_type": "code",
   "execution_count": null,
   "id": "d77aaeea-296d-4e2f-b8f7-c677f01de877",
   "metadata": {},
   "outputs": [],
   "source": []
  }
 ],
 "metadata": {
  "kernelspec": {
   "display_name": "Python 3 (ipykernel)",
   "language": "python",
   "name": "python3"
  },
  "language_info": {
   "codemirror_mode": {
    "name": "ipython",
    "version": 3
   },
   "file_extension": ".py",
   "mimetype": "text/x-python",
   "name": "python",
   "nbconvert_exporter": "python",
   "pygments_lexer": "ipython3",
   "version": "3.8.10"
  }
 },
 "nbformat": 4,
 "nbformat_minor": 5
}
