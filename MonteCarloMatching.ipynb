{
 "cells": [
  {
   "cell_type": "code",
   "execution_count": 1,
   "id": "8bd5d311-0a51-406f-984c-728f6d7ed51d",
   "metadata": {
    "tags": []
   },
   "outputs": [],
   "source": [
    "import scipy"
   ]
  },
  {
   "cell_type": "code",
   "execution_count": 2,
   "id": "654592da-f1d7-481a-ae89-0441b75dea30",
   "metadata": {
    "tags": []
   },
   "outputs": [
    {
     "name": "stdout",
     "output_type": "stream",
     "text": [
      "(40, 40)\n"
     ]
    }
   ],
   "source": [
    "from networkx.algorithms import bipartite\n",
    "import networkx as nx\n",
    "#random_graph(n, m, p[, seed, directed])\n",
    "n = 20\n",
    "m = 20\n",
    "p = 0.6\n",
    "seed = 1\n",
    "directed = False\n",
    "G = bipartite.random_graph(n, m, p, seed, directed)\n",
    "reference_matching = nx.max_weight_matching(G, maxcardinality=True)\n",
    "assert (len(reference_matching)==n)\n",
    "import scipy.sparse as sps\n",
    "# Convert the graph to a SciPy sparse matrix\n",
    "mat = nx.to_scipy_sparse_array(G,format=\"lil\")\n",
    "#mat.setdiag(1)\n",
    "print(mat.shape)"
   ]
  },
  {
   "cell_type": "code",
   "execution_count": 3,
   "id": "82f2fc8c-0f32-4948-80ee-53626b386ddc",
   "metadata": {
    "tags": []
   },
   "outputs": [
    {
     "name": "stdout",
     "output_type": "stream",
     "text": [
      "(40, 40)\n"
     ]
    }
   ],
   "source": [
    "from scipy.sparse import triu, tril\n",
    "# Set diagonal to 1 so matrix is invertible\n",
    "# Extract upper triangle of symmetric sparse matrix\n",
    "upper_triangle = triu(mat,format=\"csc\", k=1)\n",
    "lower_triangle = tril(mat,format=\"csc\")\n",
    "mat=lower_triangle+(upper_triangle*-1)\n",
    "print(mat.shape)"
   ]
  },
  {
   "cell_type": "code",
   "execution_count": 4,
   "id": "06e02606-cadc-4905-8808-8142df545eb5",
   "metadata": {
    "tags": []
   },
   "outputs": [
    {
     "data": {
      "text/plain": [
       "<matplotlib.lines.Line2D at 0x7f46e6d9f1c0>"
      ]
     },
     "execution_count": 4,
     "metadata": {},
     "output_type": "execute_result"
    },
    {
     "data": {
      "image/png": "[encoded data removed]",
      "text/plain": [
       "<Figure size 640x480 with 1 Axes>"
      ]
     },
     "metadata": {},
     "output_type": "display_data"
    }
   ],
   "source": [
    "import numpy as np\n",
    "import scipy as sp\n",
    "import scipy.sparse\n",
    "from scipy.sparse import csc_matrix\n",
    "import matplotlib.pyplot as plt\n",
    "%matplotlib inline\n",
    "plt.spy(mat, aspect='equal', marker='.', markersize=2)\n"
   ]
  },
  {
   "cell_type": "code",
   "execution_count": 5,
   "id": "381d759c-a738-4ad5-a689-5613e85e5ef8",
   "metadata": {
    "tags": []
   },
   "outputs": [
    {
     "name": "stdout",
     "output_type": "stream",
     "text": [
      "Randomized Adj in 0.0001556873321533203 seconds\n",
      "Inverted Matrix in 0.011729717254638672 seconds\n"
     ]
    }
   ],
   "source": [
    "import time\n",
    "import numpy as np\n",
    "start_time = time.time()\n",
    "# Set the data array in place to random integers between 0 and nnz\n",
    "mat.data = np.random.randint(1, mat.nnz + 1, size=mat.nnz)\n",
    "# Record the stop time\n",
    "stop_time = time.time()\n",
    "# Calculate the elapsed time\n",
    "elapsed_time = stop_time - start_time\n",
    "print(f\"Randomized Adj in {elapsed_time} seconds\")\n",
    "start_time = time.time()\n",
    "invMat = sps.linalg.inv(mat)\n",
    "# Record the stop time\n",
    "stop_time = time.time()\n",
    "# Calculate the elapsed time\n",
    "elapsed_time = stop_time - start_time\n",
    "print(f\"Inverted Matrix in {elapsed_time} seconds\")\n",
    "matBackup=mat.copy()\n",
    "invMatBackup=invMat.copy()\n"
   ]
  },
  {
   "cell_type": "code",
   "execution_count": 7,
   "id": "69e53775-6613-4908-80aa-6db1980fd65b",
   "metadata": {
    "tags": []
   },
   "outputs": [
    {
     "name": "stdout",
     "output_type": "stream",
     "text": [
      "Found edge (0, 20)\n",
      "(38, 38)\n",
      "Found edge (1, 21)\n",
      "(36, 36)\n",
      "Found edge (2, 22)\n",
      "(34, 34)\n",
      "Found edge (3, 23)\n",
      "(32, 32)\n",
      "Found edge (4, 26)\n",
      "(30, 30)\n",
      "Found edge (5, 24)\n",
      "(28, 28)\n",
      "Found edge (6, 28)\n",
      "(26, 26)\n",
      "Found edge (7, 29)\n",
      "(24, 24)\n",
      "Found edge (8, 27)\n",
      "(22, 22)\n",
      "Found edge (9, 30)\n",
      "(20, 20)\n",
      "Found edge (10, 25)\n",
      "(18, 18)\n",
      "Found edge (11, 32)\n",
      "(16, 16)\n",
      "Found edge (12, 31)\n",
      "(14, 14)\n",
      "Found edge (13, 33)\n",
      "(12, 12)\n",
      "Found edge (14, 34)\n",
      "(10, 10)\n",
      "Found edge (15, 35)\n",
      "(8, 8)\n",
      "Found edge (16, 36)\n",
      "(6, 6)\n",
      "Found edge (17, 38)\n",
      "(4, 4)\n",
      "Found edge (18, 37)\n",
      "(2, 2)\n",
      "Found edge (19, 39)\n"
     ]
    },
    {
     "ename": "ValueError",
     "evalue": "illegal value in 4-th argument of internal getrf|getri",
     "output_type": "error",
     "traceback": [
      "\u001b[0;31m---------------------------------------------------------------------------\u001b[0m",
      "\u001b[0;31mValueError\u001b[0m                                Traceback (most recent call last)",
      "Cell \u001b[0;32mIn[7], line 37\u001b[0m\n\u001b[1;32m     35\u001b[0m \u001b[38;5;66;03m# Apply the mask to the matrix\u001b[39;00m\n\u001b[1;32m     36\u001b[0m denseAdj \u001b[38;5;241m=\u001b[39m newAdj[rows_to_keep][:, cols_to_keep]\n\u001b[0;32m---> 37\u001b[0m denseInv \u001b[38;5;241m=\u001b[39m \u001b[43mscipy\u001b[49m\u001b[38;5;241;43m.\u001b[39;49m\u001b[43mlinalg\u001b[49m\u001b[38;5;241;43m.\u001b[39;49m\u001b[43minv\u001b[49m\u001b[43m(\u001b[49m\u001b[43mdenseAdj\u001b[49m\u001b[43m)\u001b[49m\n\u001b[1;32m     38\u001b[0m \u001b[38;5;28mprint\u001b[39m(denseAdj\u001b[38;5;241m.\u001b[39mshape)\n\u001b[1;32m     39\u001b[0m rowlabels\u001b[38;5;241m.\u001b[39mpop(c)\n",
      "File \u001b[0;32m~/.local/lib/python3.8/site-packages/scipy/linalg/_basic.py:977\u001b[0m, in \u001b[0;36minv\u001b[0;34m(a, overwrite_a, check_finite)\u001b[0m\n\u001b[1;32m    975\u001b[0m     \u001b[38;5;28;01mraise\u001b[39;00m LinAlgError(\u001b[38;5;124m\"\u001b[39m\u001b[38;5;124msingular matrix\u001b[39m\u001b[38;5;124m\"\u001b[39m)\n\u001b[1;32m    976\u001b[0m \u001b[38;5;28;01mif\u001b[39;00m info \u001b[38;5;241m<\u001b[39m \u001b[38;5;241m0\u001b[39m:\n\u001b[0;32m--> 977\u001b[0m     \u001b[38;5;28;01mraise\u001b[39;00m \u001b[38;5;167;01mValueError\u001b[39;00m(\u001b[38;5;124m'\u001b[39m\u001b[38;5;124millegal value in \u001b[39m\u001b[38;5;132;01m%d\u001b[39;00m\u001b[38;5;124m-th argument of internal \u001b[39m\u001b[38;5;124m'\u001b[39m\n\u001b[1;32m    978\u001b[0m                      \u001b[38;5;124m'\u001b[39m\u001b[38;5;124mgetrf|getri\u001b[39m\u001b[38;5;124m'\u001b[39m \u001b[38;5;241m%\u001b[39m \u001b[38;5;241m-\u001b[39minfo)\n\u001b[1;32m    979\u001b[0m \u001b[38;5;28;01mreturn\u001b[39;00m inv_a\n",
      "\u001b[0;31mValueError\u001b[0m: illegal value in 4-th argument of internal getrf|getri"
     ]
    }
   ],
   "source": [
    "from scipy import linalg\n",
    "Aij = matBackup.copy().tocoo()\n",
    "denseAdj = matBackup.copy().todense()\n",
    "invMat = sps.linalg.inv(matBackup)\n",
    "denseInv = invMat.copy().todense()\n",
    "w = linalg.det(denseInv)\n",
    "matchingGaussian = []\n",
    "# Let A be an nxn matrix\n",
    "# Denote by Aij the (n-1)x(n-1) submatrix obtained by removing the ith row and jth column\n",
    "# Denote by Aii,jj the (n-2)x(n-2) submatrix obtained by removing the ith row and column\n",
    "# and jth row and column\n",
    "# Simply zeroing out rows/columns not in the submatrix won't work because\n",
    "# 3.5.1 Matrices with rows or columns of zeroes are not invertible\n",
    "# https://www.ucl.ac.uk/~ucahmto/0005_2021/Ch3.S5.html\n",
    "rowlabels = [i for i in range(mat.shape[0] + 1)]\n",
    "collabels = [i for i in range(mat.shape[1] + 1)]\n",
    "# n/2 iterations\n",
    "for r in range (mat.shape[0]//2):\n",
    "    #print(r)\n",
    "    # Simplify finding a column in the first row.\n",
    "    for c in range (denseAdj.shape[1]):\n",
    "        if (denseAdj[0,c]!=0.0 and denseInv[c,0]!=0.0):\n",
    "            print(\"Found edge\", (rowlabels[0],collabels[c]))\n",
    "            newAdj = denseAdj.copy()\n",
    "            matchingGaussian.append((rowlabels[0],collabels[c]))\n",
    "            # Define a mask for rows and columns to exclude\n",
    "            rows_to_exclude = [0,c]\n",
    "            cols_to_exclude = [c,0]\n",
    "            # Create a boolean mask for rows and columns to keep\n",
    "            rows_to_keep = np.ones(newAdj.shape[0], dtype=bool)\n",
    "            cols_to_keep = np.ones(newAdj.shape[1], dtype=bool)\n",
    "            rows_to_keep[rows_to_exclude] = False\n",
    "            cols_to_keep[cols_to_exclude] = False\n",
    "            \n",
    "            # Apply the mask to the matrix\n",
    "            denseAdj = newAdj[rows_to_keep][:, cols_to_keep]\n",
    "            if (denseAdj.getnnz()>0):\n",
    "                denseInv = scipy.linalg.inv(denseAdj)\n",
    "                print(denseAdj.shape)\n",
    "                rowlabels.pop(c)\n",
    "                rowlabels = rowlabels[1:]  # This creates a new list without the first element\n",
    "                collabels.pop(c)\n",
    "                collabels = collabels[1:]  # This creates a new list without the first element\n",
    "                break\n",
    "                \n",
    "print(reference_matching)\n",
    "print(matchingGaussian)\n",
    "assert(len(reference_matching)==len(matchingGaussian))"
   ]
  },
  {
   "cell_type": "code",
   "execution_count": null,
   "id": "e46cc1ca-e8d0-410d-935b-c8375c44dce2",
   "metadata": {
    "tags": []
   },
   "outputs": [],
   "source": [
    "# Draw the graph with the perfect matching edges highlighted\n",
    "import networkx as nx\n",
    "import matplotlib.pyplot as plt\n",
    "%matplotlib inline\n",
    "\n",
    "# Get the nodes in each partition\n",
    "partition1_nodes, partition2_nodes = bipartite.sets(G)\n",
    "# Use bipartite_layout for bipartite graph visualization\n",
    "pos = nx.bipartite_layout(G, partition1_nodes)\n",
    "\n",
    "matching_graph = nx.Graph()\n",
    "matching_graph.add_edges_from(reference_matching)\n",
    "\n",
    "# Create a new graph with only the matching edges\n",
    "#matching_gaussian_edges = [(u, v) for u, v in G.edges() if (u, v) in matching or (v, u) in matching]\n",
    "matching_gaussian_edges = nx.Graph()\n",
    "matching_gaussian_edges.add_edges_from(matchingGaussian)\n",
    "\n",
    "# Draw the bipartite graph with matching edges highlighted in red\n",
    "#nx.draw(G, pos, with_labels=True, node_color='skyblue', edge_color=edge_colors, width=2.0)\n",
    "nx.draw(matching_graph, pos, with_labels=False, edge_color='r', width=2.0)\n",
    "nx.draw(matching_gaussian_edges, pos, with_labels=False, edge_color='g', width=2.0)\n",
    "\n",
    "plt.title(\"Bipartite Graph with Matching Edges Highlighted\")\n",
    "plt.show()\n"
   ]
  },
  {
   "cell_type": "code",
   "execution_count": null,
   "id": "cb4c9992-af6f-42ff-83d5-3cd6cb3854ee",
   "metadata": {},
   "outputs": [],
   "source": [
    "import scipy.sparse as sps\n",
    "from scipy.sparse import triu, tril\n",
    "from scipy import linalg\n",
    "def GaussMatching(G):\n",
    "    # Convert the graph to a SciPy sparse matrix\n",
    "    mat = nx.to_scipy_sparse_array(G,format=\"lil\")\n",
    "    #mat.setdiag(1)\n",
    "    # Set diagonal to 1 so matrix is invertible\n",
    "    # Extract upper triangle of symmetric sparse matrix\n",
    "    upper_triangle = triu(mat,format=\"csc\", k=1)\n",
    "    lower_triangle = tril(mat,format=\"csc\")\n",
    "    mat=lower_triangle+(upper_triangle*-1)\n",
    "\n",
    "    Aij = mat.copy().tocoo()\n",
    "    denseAdj = mat.copy().todense()\n",
    "    invMat = sps.linalg.inv(mat)\n",
    "    denseInv = invMat.copy().todense()\n",
    "    w = linalg.det(denseInv)\n",
    "    rows_removed = set()\n",
    "    cols_removed = set()\n",
    "    matchingGaussian = []\n",
    "    # Let A be an nxn matrix\n",
    "    # Denote by Aij the (n-1)x(n-1) submatrix obtained by removing the ith row and jth column\n",
    "    # Denote by Aii,jj the (n-2)x(n-2) submatrix obtained by removing the ith row and column\n",
    "    # and jth row and column\n",
    "    # Simply zeroing out rows/columns not in the submatrix won't work because\n",
    "    # 3.5.1 Matrices with rows or columns of zeroes are not invertible\n",
    "    # https://www.ucl.ac.uk/~ucahmto/0005_2021/Ch3.S5.html\n",
    "    for i,j,v in zip(Aij.row, Aij.col, Aij.data):\n",
    "        if i != j and i not in rows_removed and j not in cols_removed \\\n",
    "            and j not in rows_removed and i not in cols_removed:\n",
    "                #print(i,j,v)\n",
    "                denseS = denseAdj.copy()\n",
    "                randomNumber = np.random.randint(1, 2*mat.shape[0], size=1)\n",
    "                denseS[i,j]=randomNumber\n",
    "                try:\n",
    "                    Bij = linalg.inv(denseS)\n",
    "                    det = linalg.det(Bij)\n",
    "                    if (Bij[j,i]!=0.0):\n",
    "                        if (det==0.0):\n",
    "                            print(\"Bad substitution!!!\")\n",
    "                        else:\n",
    "                            rows_removed.add(i)\n",
    "                            cols_removed.add(j)\n",
    "                            rows_removed.add(j)\n",
    "                            cols_removed.add(i)\n",
    "                            denseAdj[i,j]=0.0\n",
    "                            matchingGaussian.append((i,j))\n",
    "                except Exception:\n",
    "                    continue\n",
    "    return(matchingGaussian)"
   ]
  },
  {
   "cell_type": "code",
   "execution_count": null,
   "id": "82cca80e-6e6c-4a2b-8196-0d1d6fead32b",
   "metadata": {
    "tags": []
   },
   "outputs": [],
   "source": [
    "# Draw the graph with the perfect matching edges highlighted\n",
    "import networkx as nx\n",
    "import matplotlib.pyplot as plt\n",
    "%matplotlib inline\n",
    "def PlotMatching(G,Edmonds,Gauss):\n",
    "    # Get the nodes in each partition\n",
    "    partition1_nodes, partition2_nodes = bipartite.sets(G)\n",
    "    # Use bipartite_layout for bipartite graph visualization\n",
    "    pos = nx.bipartite_layout(G, partition1_nodes)\n",
    "\n",
    "    matching_graph = nx.Graph()\n",
    "    matching_graph.add_edges_from(Edmonds)\n",
    "\n",
    "    # Create a new graph with only the matching edges\n",
    "    #matching_gaussian_edges = [(u, v) for u, v in G.edges() if (u, v) in matching or (v, u) in matching]\n",
    "    matching_gaussian_edges = nx.Graph()\n",
    "    matching_gaussian_edges.add_edges_from(Gauss)\n",
    "\n",
    "    # Draw the bipartite graph with matching edges highlighted in red\n",
    "    #nx.draw(G, pos, with_labels=True, node_color='skyblue', edge_color=edge_colors, width=2.0)\n",
    "    # Draw the isolated nodes as well\n",
    "    nx.draw_networkx_nodes(G, pos, nodelist=G.nodes)\n",
    "\n",
    "    nx.draw(matching_graph, pos, with_labels=True, edge_color='r', width=2.0)\n",
    "\n",
    "    plt.title(\"Bipartite Graph with Edmonds Edges Highlighted\")\n",
    "    plt.show()\n",
    "    plt.title(\"Bipartite Graph with Gauss Edges Highlighted\")\n",
    "    nx.draw_networkx_nodes(G, pos, nodelist=G.nodes)\n",
    "    nx.draw(matching_gaussian_edges, pos, with_labels=True, edge_color='g', width=2.0)\n",
    "    plt.show()\n"
   ]
  },
  {
   "cell_type": "code",
   "execution_count": null,
   "id": "57fe0761-1769-4fe9-9365-32a405a13f66",
   "metadata": {
    "tags": []
   },
   "outputs": [],
   "source": [
    "from networkx.algorithms import bipartite\n",
    "import networkx as nx\n",
    "import timeit\n",
    "import time\n",
    "# Wrap the code in a loop to increase n by powers of 10\n",
    "for exponent in range(1, 4):  # Increase n by powers of 10 (1 to 4)\n",
    "    n = 10 ** exponent\n",
    "    m = n\n",
    "    p = 0.6\n",
    "    seed = 1\n",
    "    directed = False\n",
    "    \n",
    "    # Generate a random graph\n",
    "    # Record the start time\n",
    "    start_time = time.time()\n",
    "    G = nx.bipartite.random_graph(n, m, p, seed, directed)\n",
    "    # Record the stop time\n",
    "    stop_time = time.time()\n",
    "    # Calculate the elapsed time\n",
    "    elapsed_time = stop_time - start_time\n",
    "    print(f\"Generated Bipartite Graph in {elapsed_time} seconds\")\n",
    "    # Convert the graph to a SciPy sparse matrix\n",
    "    start_time = time.time()\n",
    "    \n",
    "    start_time = time.time()\n",
    "    Edmonds = nx.max_weight_matching(G, maxcardinality=True)\n",
    "    # Record the stop time\n",
    "    stop_time = time.time()\n",
    "    # Calculate the elapsed time\n",
    "    elapsed_time = stop_time - start_time\n",
    "    print(f\"Generated reference matching in {elapsed_time} seconds\")\n",
    "    start_time = time.time()\n",
    "    assert (len(Edmonds)==n)\n",
    "\n",
    "    mat = nx.to_scipy_sparse_array(G, format=\"csc\")\n",
    "    # Record the stop time\n",
    "    stop_time = time.time()\n",
    "    # Calculate the elapsed time\n",
    "    elapsed_time = stop_time - start_time\n",
    "    print(f\"Convert the graph to a SciPy sparse matrix in {elapsed_time} seconds\")\n",
    "    # Wrap the gaussmatching method in a timeit function to get average time\n",
    "    def time_Gauss():\n",
    "        return GaussMatching(G)\n",
    "    def time_Edmonds():\n",
    "        return nx.max_weight_matching(G, maxcardinality=True)\n",
    "    Gauss = GaussMatching(G)\n",
    "    print(Edmonds)\n",
    "    print(Gauss)\n",
    "    PlotMatching(G,Edmonds,Gauss)\n",
    "    assert(len(Gauss)==len(Edmonds))\n",
    "    numSamples = 1\n",
    "    execution_timeGauss = timeit.timeit(time_Gauss, number=numSamples) / numSamples  # 100 runs for averaging\n",
    "    execution_timeEdmonds = timeit.timeit(time_Edmonds, number=numSamples) / numSamples  # 100 runs for averaging\n",
    "    print(f\"n={n}, Average Gauss Execution Time: {execution_timeGauss} seconds\")\n",
    "    #print(f\"n={n}, Average GaussDOK Execution Time: {execution_timeGaussDOK} seconds\")\n",
    "    print(f\"n={n}, Average Edmonds Execution Time: {execution_timeEdmonds} seconds\")"
   ]
  },
  {
   "cell_type": "code",
   "execution_count": null,
   "id": "456b6685-c560-4566-b997-3bebad17da2b",
   "metadata": {},
   "outputs": [],
   "source": []
  },
  {
   "cell_type": "code",
   "execution_count": null,
   "id": "3c043055-b3ba-4bb5-a4ac-c0c8c4b143f2",
   "metadata": {},
   "outputs": [],
   "source": []
  },
  {
   "cell_type": "code",
   "execution_count": null,
   "id": "08c87200-47f3-42df-8701-8e937739ec0e",
   "metadata": {},
   "outputs": [],
   "source": []
  }
 ],
 "metadata": {
  "kernelspec": {
   "display_name": "Python 3 (ipykernel)",
   "language": "python",
   "name": "python3"
  },
  "language_info": {
   "codemirror_mode": {
    "name": "ipython",
    "version": 3
   },
   "file_extension": ".py",
   "mimetype": "text/x-python",
   "name": "python",
   "nbconvert_exporter": "python",
   "pygments_lexer": "ipython3",
   "version": "3.8.10"
  }
 },
 "nbformat": 4,
 "nbformat_minor": 5
}
